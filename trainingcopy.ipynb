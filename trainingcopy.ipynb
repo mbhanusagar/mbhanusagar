{
 "cells": [
  {
   "cell_type": "code",
   "execution_count": null,
   "metadata": {},
   "outputs": [],
   "source": [
    "!pip install ultralytics"
   ]
  },
  {
   "cell_type": "code",
   "execution_count": 21,
   "metadata": {},
   "outputs": [],
   "source": [
    "import ultralyics"
   ]
  },
  {
   "cell_type": "code",
   "execution_count": 22,
   "metadata": {},
   "outputs": [],
   "source": [
    "from ultralytics import YOLO"
   ]
  },
  {
   "cell_type": "code",
   "execution_count": null,
   "metadata": {},
   "outputs": [],
   "source": [
    "model = YOLO()\n",
    "model.train(data = \"/Users/divakar/Desktop/Yolo train/poaching/data.yaml\", epochs=10)"
   ]
  },
  {
   "cell_type": "code",
   "execution_count": null,
   "metadata": {},
   "outputs": [],
   "source": [
    "from ultralytics import YOLO\n",
    "import twilio\n",
    "from twilio.rest import Client\n",
    "import cv2\n",
    "\n",
    "account_sid = 'AC714c701c7ee80855bc13e860bfaefbd3'\n",
    "auth_token = 'c3542470a4b76b2e5f7f5f3fcdc3896d'\n",
    "client = Client(account_sid, auth_token)\n",
    "\n",
    "def send_whatsapp_alert(alert_message, to):\n",
    "  global flag\n",
    "  if flag:\n",
    "     return\n",
    "  message = client.messages.create(\n",
    "    from_='whatsapp:+14155238886',\n",
    "    body=alert_message,\n",
    "    to=to\n",
    "  )\n",
    "  flag = True\n",
    "  print(message.sid)\n",
    "\n",
    "alert_message = \"❌❌Poaching activity Detected❌❌, Check the cameras immediately !!!\"\n",
    "to = {'whatsapp:+919642633803', 'whatsapp:+919390076069', 'whatsapp:+919059363915', 'whatsapp:+918179533097'}\n",
    "\n",
    "\n",
    "model_path = \"/Users/divakar/Desktop/Yolo train/poaching/runs/detect/train3/weights/best.pt\"\n",
    "model = YOLO(model_path)\n",
    "\n",
    "# from PIL import Image\n",
    "# image = Image.open(\"/Users/divakar/Desktop/Yolo train/poaching/Test Image.png\")\n",
    "\n",
    "# res = model.predict(image)\n",
    "# res = res[0]\n",
    "#     res_tensor = res.boxes.cls\n",
    "\n",
    "#     res_numpy = res_tensor.numpy()\n",
    "#     print(res_numpy)\n",
    "\n",
    "#     for i in res_numpy:\n",
    "#       if i == 9:\n",
    "#           send_whatsapp_alert(alert_message, to)\n",
    "flag = False\n",
    "cap = cv2.VideoCapture(\"/Users/divakar/Desktop/Yolo train/poaching/Output Video 2.mp4\")\n",
    "if not cap.isOpened():\n",
    "    print(\"Error: Could not open camera.\")\n",
    "    exit()\n",
    "count = 0\n",
    "while cap.isOpened():\n",
    "    count += 1\n",
    "    ret,frame=cap.read()\n",
    "    if not ret:\n",
    "      print(\"Error: Failed to grab a frame.\")\n",
    "      break\n",
    "    if count % 30 == 0:\n",
    "      res = model.predict(frame)\n",
    "\n",
    "      res = res[0]\n",
    "      res_tensor = res.boxes.cls\n",
    "\n",
    "      res_numpy = res_tensor.numpy()\n",
    "      print(res_numpy)\n",
    "    \n",
    "\n",
    "      for i in res_numpy:\n",
    "        if i == 9:\n",
    "            send_whatsapp_alert(alert_message, to)\n",
    "    else:\n",
    "       continue\n",
    "\n",
    "cap.release()\n",
    "cv2.destroyAllWindows()\n",
    "\n",
    "            "
   ]
  },
  {
   "cell_type": "code",
   "execution_count": null,
   "metadata": {},
   "outputs": [],
   "source": [
    "!pip install --force-reinstall -v \"keyring==8.7.0\""
   ]
  },
  {
   "cell_type": "code",
   "execution_count": 33,
   "metadata": {},
   "outputs": [
    {
     "name": "stdout",
     "output_type": "stream",
     "text": [
      "Traceback (most recent call last):\n",
      "  File \"/Users/divakar/miniconda3/envs/tensorflow/bin/yolo\", line 5, in <module>\n",
      "    from yolo.script import cli\n",
      "  File \"/Users/divakar/miniconda3/envs/tensorflow/lib/python3.10/site-packages/yolo/script.py\", line 20, in <module>\n",
      "    from yolo import client\n",
      "  File \"/Users/divakar/miniconda3/envs/tensorflow/lib/python3.10/site-packages/yolo/client.py\", line 39, in <module>\n",
      "    import keyring\n",
      "  File \"/Users/divakar/miniconda3/envs/tensorflow/lib/python3.10/site-packages/keyring/__init__.py\", line 6, in <module>\n",
      "    from .core import (set_keyring, get_keyring, set_password, get_password,\n",
      "  File \"/Users/divakar/miniconda3/envs/tensorflow/lib/python3.10/site-packages/keyring/core.py\", line 14, in <module>\n",
      "    from . import backend\n",
      "  File \"/Users/divakar/miniconda3/envs/tensorflow/lib/python3.10/site-packages/keyring/backend.py\", line 18, in <module>\n",
      "    from .util import properties\n",
      "  File \"/Users/divakar/miniconda3/envs/tensorflow/lib/python3.10/site-packages/keyring/util/properties.py\", line 1, in <module>\n",
      "    from collections import Callable\n",
      "ImportError: cannot import name 'Callable' from 'collections' (/Users/divakar/miniconda3/envs/tensorflow/lib/python3.10/collections/__init__.py)\n"
     ]
    }
   ],
   "source": [
    "# !pip install ultralytics\n",
    "from collections.abc import Callable\n",
    "# import collections.abc\n",
    "# collections.Callable = collections.abc.Callable\n",
    "!yolo task=detect mode=predict model=\"/Users/divakar/Desktop/Yolo train/poaching/runs/detect/train/weights/best.pt\" conf=0.25 source=\"/Users/divakar/Desktop/Yolo train/poaching/Output Video 2.mp4 \""
   ]
  },
  {
   "cell_type": "code",
   "execution_count": null,
   "metadata": {},
   "outputs": [],
   "source": [
    "task= detect\n",
    "mode= train\n",
    "model= yolov8n.pt\n",
    "data= .yaml file \n",
    "epochs= 10\n",
    "batch= 16, \n",
    "imgsz= 640, \n",
    "save= True,\n",
    "name=train3,\n",
    "optimizer=auto, \n",
    "save_dir=runs/detect/train3"
   ]
  }
 ],
 "metadata": {
  "kernelspec": {
   "display_name": "tensorflow",
   "language": "python",
   "name": "python3"
  },
  "language_info": {
   "codemirror_mode": {
    "name": "ipython",
    "version": 3
   },
   "file_extension": ".py",
   "mimetype": "text/x-python",
   "name": "python",
   "nbconvert_exporter": "python",
   "pygments_lexer": "ipython3",
   "version": "3.1.0"
  }
 },
 "nbformat": 4,
 "nbformat_minor": 2
}
